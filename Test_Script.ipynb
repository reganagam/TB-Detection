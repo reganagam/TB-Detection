{
  "nbformat": 4,
  "nbformat_minor": 0,
  "metadata": {
    "colab": {
      "provenance": [],
      "collapsed_sections": []
    },
    "kernelspec": {
      "name": "python3",
      "display_name": "Python 3"
    },
    "language_info": {
      "name": "python"
    },
    "accelerator": "GPU",
    "gpuClass": "standard"
  },
  "cells": [
    {
      "cell_type": "code",
      "source": [
        "from google.colab import drive\n",
        "drive.mount('/content/drive')"
      ],
      "metadata": {
        "colab": {
          "base_uri": "https://localhost:8080/"
        },
        "id": "EIZYrFhEpItZ",
        "outputId": "60cc9c12-a1c6-42f9-fc43-c656b07a74e2"
      },
      "execution_count": 1,
      "outputs": [
        {
          "output_type": "stream",
          "name": "stdout",
          "text": [
            "Drive already mounted at /content/drive; to attempt to forcibly remount, call drive.mount(\"/content/drive\", force_remount=True).\n"
          ]
        }
      ]
    },
    {
      "cell_type": "code",
      "source": [
        "!pip install gradio"
      ],
      "metadata": {
        "id": "VrQVD1GDqgCX"
      },
      "execution_count": null,
      "outputs": []
    },
    {
      "cell_type": "code",
      "source": [
        "import tensorflow as tf\n",
        "import numpy as np\n",
        "import gradio as gr"
      ],
      "metadata": {
        "id": "NOSvNoHYokgC"
      },
      "execution_count": 4,
      "outputs": []
    },
    {
      "cell_type": "code",
      "execution_count": 5,
      "metadata": {
        "id": "0k67blhMoSPG"
      },
      "outputs": [],
      "source": [
        "model = tf.keras.models.load_model('/content/drive/MyDrive/Tugas_Akhir/Model_H5/model.h5')"
      ]
    },
    {
      "cell_type": "code",
      "source": [
        "def predict_image(img):\n",
        "  imgs = tf.keras.preprocessing.image.img_to_array(img)/255\n",
        "  x = np.expand_dims(imgs, axis=0)\n",
        "  prediction=model.predict(x)\n",
        "  percentage = float(prediction)\n",
        "  if percentage > 0.5:\n",
        "    result = 'Tuberculosis'\n",
        "  else:\n",
        "    result = 'Normal'\n",
        "  return {result: percentage}"
      ],
      "metadata": {
        "id": "kL_xiwMdpiWE"
      },
      "execution_count": 93,
      "outputs": []
    },
    {
      "cell_type": "code",
      "source": [
        "image = gr.inputs.Image(shape=(224,224))\n",
        "label = gr.outputs.Label(num_top_classes=1)\n",
        "\n",
        "gr.Interface(fn=predict_image, inputs=image, outputs=label,interpretation='default').launch(debug='True')"
      ],
      "metadata": {
        "id": "aIpMfPOcqY0_"
      },
      "execution_count": null,
      "outputs": []
    }
  ]
}